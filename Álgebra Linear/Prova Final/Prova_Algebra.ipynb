{
  "nbformat": 4,
  "nbformat_minor": 0,
  "metadata": {
    "colab": {
      "name": "Prova-Algebra.ipynb",
      "provenance": [],
      "collapsed_sections": []
    },
    "kernelspec": {
      "name": "python3",
      "display_name": "Python 3"
    }
  },
  "cells": [
    {
      "cell_type": "code",
      "metadata": {
        "id": "a-KyQ4U5BVRD"
      },
      "source": [
        "import matplotlib.pyplot as plt\n",
        "import numpy as np"
      ],
      "execution_count": null,
      "outputs": []
    },
    {
      "cell_type": "code",
      "metadata": {
        "id": "jO4XZ2IyBkeh"
      },
      "source": [
        "\n",
        "def plot_polygon(polygon, newfigure=True, args={}, size=(15, 9), grades=False):\n",
        "    x = np.array([v[0] for v in polygon])  # coordenada x\n",
        "    y = np.array([v[1] for v in polygon])  # coordenada y\n",
        "\n",
        "    if newfigure:\n",
        "        plt.figure(figsize=size)\n",
        "\n",
        "    plt.plot(x, y, **args)  # passando os argumentos para a funcao plot\n",
        "    plt.grid(grades)\n"
      ],
      "execution_count": null,
      "outputs": []
    },
    {
      "cell_type": "markdown",
      "metadata": {
        "id": "ZaSktNrhU1eG"
      },
      "source": [
        "## Qual das opções a seguir corresponde à uma base do espaço vetorial R³?\n"
      ]
    },
    {
      "cell_type": "code",
      "metadata": {
        "colab": {
          "base_uri": "https://localhost:8080/"
        },
        "id": "7JwVasQrU4M4",
        "outputId": "7adcd7c4-073e-4d75-feb5-d1c6791847bb"
      },
      "source": [
        "# As tres opções que tinha vetores 3 com 3 dimensoes\n",
        "\n",
        "matriz1 = np.array([\n",
        "      [1, -2, 0],\n",
        "      [-2, 0, -3], \n",
        "      [0, 3, -4]             \n",
        "])\n",
        "\n",
        "matriz2 = np.array([\n",
        "        [1, 2, 0], \n",
        "        [-2, 0, 3], \n",
        "        [0, 4, 3]\n",
        "])\n",
        "\n",
        "matriz3 = np.array([\n",
        "        [1, 0, 2], \n",
        "        [-2, 3, 0], \n",
        "        [0, 3, 4]\n",
        "])\n",
        "\n",
        "\n",
        "print(np.linalg.det(matriz1))\n",
        "print(np.linalg.det(matriz2))\n",
        "print(np.linalg.det(matriz3))\n"
      ],
      "execution_count": null,
      "outputs": [
        {
          "output_type": "stream",
          "text": [
            "24.999999999999996\n",
            "0.0\n",
            "0.0\n"
          ],
          "name": "stdout"
        }
      ]
    },
    {
      "cell_type": "markdown",
      "metadata": {
        "id": "KzSDYkhHY9LC"
      },
      "source": [
        "## Qual dos vetores a seguir apresenta o maior ângulo em relação ao vetor [1, -1, 1, -1, 1]?"
      ]
    },
    {
      "cell_type": "code",
      "metadata": {
        "colab": {
          "base_uri": "https://localhost:8080/"
        },
        "id": "YS7lRKRiY-H1",
        "outputId": "3fcc63eb-2efb-401c-c269-93929ff3f65e"
      },
      "source": [
        "\n",
        "principal = np.array([1, -1, 1, -1, 1])\n",
        "norma_principal = np.linalg.norm(principal)\n",
        "\n",
        "vetores = {\n",
        "        'Primeiro': np.array([2, 2, 2, -3, 2]),\n",
        "        'Segundo': np.array([-1, -1, -1, -1, -1]),\n",
        "        'Terceiro': np.array([-2, 3, -2, 3, -2]),\n",
        "        'Quarto': np.array([1, 1, 1, 1, 1]),\n",
        "        'Quinto': np.array([-1, 0, -1, 0, -1])\n",
        "}\n",
        "\n",
        "\n",
        "for vetor in vetores:\n",
        "    produto_interno = np.inner(principal, vetores[vetor])\n",
        "\n",
        "    norma_iesimo_vetor = np.linalg.norm(vetores[vetor])\n",
        "\n",
        "    angulo_em_rad = np.arccos(produto_interno / (norma_principal * norma_iesimo_vetor))\n",
        "    angulo_em_graus = np.degrees(angulo_em_rad)\n",
        "\n",
        "    print(f'Angulo em graus com o {vetor.upper()} vetor: {angulo_em_graus}')\n",
        "    print(f'Angulo radianos com o {vetor.upper()} vetor: {angulo_em_rad}\\n')\n",
        "\n"
      ],
      "execution_count": null,
      "outputs": [
        {
          "output_type": "stream",
          "text": [
            "Angulo em graus com o PRIMEIRO vetor: 51.2371008552493\n",
            "Angulo radianos com o PRIMEIRO vetor: 0.8942561091005029\n",
            "\n",
            "Angulo em graus com o SEGUNDO vetor: 101.53695903281549\n",
            "Angulo radianos com o SEGUNDO vetor: 1.7721542475852274\n",
            "\n",
            "Angulo em graus com o TERCEIRO vetor: 168.46304096718447\n",
            "Angulo radianos com o TERCEIRO vetor: 2.940234732799462\n",
            "\n",
            "Angulo em graus com o QUARTO vetor: 78.46304096718453\n",
            "Angulo radianos com o QUARTO vetor: 1.369438406004566\n",
            "\n",
            "Angulo em graus com o QUINTO vetor: 140.76847951640775\n",
            "Angulo radianos com o QUINTO vetor: 2.4568734505875103\n",
            "\n"
          ],
          "name": "stdout"
        }
      ]
    },
    {
      "cell_type": "markdown",
      "metadata": {
        "id": "BBRB1SJ2hiAY"
      },
      "source": [
        "## Denominemos a multiplicação de uma matriz M por ela mesma como M². Se A = [[-2, 1], [-1, 3]], B = [[0, 1], [-1, -1]] e C = [[1, 0], [0, 1]], qual o determinante de: A² * B² + C²?"
      ]
    },
    {
      "cell_type": "code",
      "metadata": {
        "colab": {
          "base_uri": "https://localhost:8080/"
        },
        "id": "TQ5x8g_7hjF7",
        "outputId": "6ee28805-004f-42ab-e87a-015f94f94b45"
      },
      "source": [
        "\n",
        "matriz_a = np.array([\n",
        "        [-2, 1],\n",
        "        [-1, 3]\n",
        "])\n",
        "\n",
        "\n",
        "matriz_b = np.array([\n",
        "        [0, 1],\n",
        "        [-1, -1]\n",
        "])\n",
        "\n",
        "\n",
        "matriz_c = np.array([\n",
        "        [1, 0],\n",
        "        [0, 1]\n",
        "])\n",
        "\n",
        "matriz_a_ao_quadrado = np.matmul(matriz_a, matriz_a)\n",
        "matriz_b_ao_quadrado = np.matmul(matriz_b, matriz_b)\n",
        "matriz_c_ao_quadrado = np.matmul(matriz_c, matriz_c)\n",
        "\n",
        "multiplicacao = np.matmul(matriz_a_ao_quadrado, matriz_b_ao_quadrado)\n",
        "soma = multiplicacao + matriz_c_ao_quadrado\n",
        "\n",
        "print(np.linalg.det(soma))  # <- DETERMINANTE \n"
      ],
      "execution_count": null,
      "outputs": [
        {
          "output_type": "stream",
          "text": [
            "25.000000000000007\n"
          ],
          "name": "stdout"
        }
      ]
    }
  ]
}