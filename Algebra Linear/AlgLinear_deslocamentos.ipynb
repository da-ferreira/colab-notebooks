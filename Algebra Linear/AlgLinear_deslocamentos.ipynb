{
  "nbformat": 4,
  "nbformat_minor": 0,
  "metadata": {
    "colab": {
      "name": "AlgLinear-deslocamentos",
      "provenance": [],
      "collapsed_sections": []
    },
    "kernelspec": {
      "name": "python3",
      "display_name": "Python 3"
    }
  },
  "cells": [
    {
      "cell_type": "code",
      "metadata": {
        "id": "aqWa1Hhy9zZz"
      },
      "source": [
        "\n",
        "import numpy as np\n",
        "import matplotlib.pyplot as plt\n",
        "%matplotlib inline\n"
      ],
      "execution_count": null,
      "outputs": []
    },
    {
      "cell_type": "code",
      "metadata": {
        "id": "BrbwcGEdDjmS"
      },
      "source": [
        "\n",
        "def plot_polygon(polygon, newfigure=True, args={}, size=(6, 6)):\n",
        "    x = np.array([v[0] for v in polygon])  # coordenada x\n",
        "    y = np.array([v[1] for v in polygon])  # coordenada y\n",
        "\n",
        "    if newfigure:\n",
        "        plt.figure(figsize=size)\n",
        "    \n",
        "    plt.plot(x, y, **args)  # passando os argumentos para a funcao plot\n"
      ],
      "execution_count": null,
      "outputs": []
    },
    {
      "cell_type": "markdown",
      "metadata": {
        "id": "EmY67gaEDQi0"
      },
      "source": [
        "###Aplicando o deslocamento com vetor descolamento [dx, dy]"
      ]
    },
    {
      "cell_type": "code",
      "metadata": {
        "id": "-90qSqGxB-yN",
        "colab": {
          "base_uri": "https://localhost:8080/",
          "height": 374
        },
        "outputId": "ea4ead72-2406-4f64-e8cc-906d798f594b"
      },
      "source": [
        "\n",
        "quadrado = [\n",
        "         np.array([0, 0]),\n",
        "         np.array([0, 1]),\n",
        "         np.array([1, 1]),\n",
        "         np.array([1, 0]),\n",
        "         np.array([0, 0])  # repete a primeira coordenada pra fechar o poligono. \n",
        "]\n",
        "\n",
        "vetor_deslocamento = np.array([4, 2])\n",
        "quadrado_deslocado = [v + vetor_deslocamento for v in quadrado]\n",
        "\n",
        "plot_polygon(quadrado, args={'c': 'b', 'label': 'Original'})\n",
        "plot_polygon(quadrado_deslocado, newfigure=False, args={'c': 'y', 'label': 'Deslocado'})\n",
        "\n",
        "plt.legend(loc=4)\n",
        "plt.grid();\n"
      ],
      "execution_count": null,
      "outputs": [
        {
          "output_type": "display_data",
          "data": {
            "image/png": "[encoded data removed]",
            "text/plain": [
              "<Figure size 432x432 with 1 Axes>"
            ]
          },
          "metadata": {
            "tags": [],
            "needs_background": "light"
          }
        }
      ]
    },
    {
      "cell_type": "markdown",
      "metadata": {
        "id": "CMRUcUQPZ7FB"
      },
      "source": [
        "###Aplicando o deslocamento com coordenadas homogêneas [x, y, 1]\n",
        "\n",
        "As coordenadas homogêneas representa um ponto com N dimensões com uma a mais, onde a última dimensão é 1.\n",
        "\n",
        "\n",
        "Pode-se aplicar o deslocamento usando multiplicação de matrizes, sendo mais viavel algebrica e computacionalmente.\n"
      ]
    },
    {
      "cell_type": "code",
      "metadata": {
        "id": "nneGkmbgaKeU",
        "colab": {
          "base_uri": "https://localhost:8080/",
          "height": 378
        },
        "outputId": "3fa57f06-7963-4008-c27f-362c7158b1a2"
      },
      "source": [
        "quadrado = [\n",
        "         np.array([0, 0, 1]),\n",
        "         np.array([0, 1, 1]),\n",
        "         np.array([1, 1, 1]),\n",
        "         np.array([1, 0, 1]),\n",
        "         np.array([0, 0, 1])  # repete a primeira coordenada pra fechar o poligono. \n",
        "]\n",
        "\n",
        "deslocamento = [\n",
        "            np.array([1, 0, 0]),\n",
        "            np.array([0, 1, 0]),\n",
        "            np.array([6, 0, 1])  # o x e y representa o 'vetor deslocamento'.\n",
        "]\n",
        "\n",
        "quadrado_deslocado = np.matmul(quadrado, deslocamento)\n",
        "\n",
        "plot_polygon(quadrado, args={'c': 'b', 'label': 'Original'})\n",
        "plot_polygon(quadrado_deslocado, newfigure=False, args={'c': 'y', 'label': 'Deslocado'})\n",
        "\n",
        "plt.legend(loc=2)\n",
        "\n",
        "\n",
        "plt.xlim(-1, 8)\n",
        "plt.ylim(-1, 8)\n",
        "plt.grid();\n"
      ],
      "execution_count": null,
      "outputs": [
        {
          "output_type": "display_data",
          "data": {
            "image/png": "[encoded data removed]",
            "text/plain": [
              "<Figure size 432x432 with 1 Axes>"
            ]
          },
          "metadata": {
            "tags": [],
            "needs_background": "light"
          }
        }
      ]
    },
    {
      "cell_type": "code",
      "metadata": {
        "id": "HUnlFwCeuyWi",
        "colab": {
          "base_uri": "https://localhost:8080/"
        },
        "outputId": "8ca58387-4314-45d6-8f52-ccbda5c64969"
      },
      "source": [
        "np.mean(quadrado[:-1], axis=0)"
      ],
      "execution_count": null,
      "outputs": [
        {
          "output_type": "execute_result",
          "data": {
            "text/plain": [
              "array([0.5, 0.5, 1. ])"
            ]
          },
          "metadata": {
            "tags": []
          },
          "execution_count": 20
        }
      ]
    }
  ]
}