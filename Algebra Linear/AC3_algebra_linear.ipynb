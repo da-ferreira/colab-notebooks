{
  "nbformat": 4,
  "nbformat_minor": 0,
  "metadata": {
    "colab": {
      "name": "AC3 - algebra-linear",
      "provenance": [],
      "collapsed_sections": []
    },
    "kernelspec": {
      "name": "python3",
      "display_name": "Python 3"
    }
  },
  "cells": [
    {
      "cell_type": "code",
      "metadata": {
        "id": "JPUeMsJgPQj0"
      },
      "source": [
        "import numpy as np"
      ],
      "execution_count": null,
      "outputs": []
    },
    {
      "cell_type": "markdown",
      "metadata": {
        "id": "kYstF6zePxy5"
      },
      "source": [
        "**Qual o resultado do produto escalar entre os vetores [-2, 1, 5, -4, 1] e [3, 4, 2, -3, 0]?**"
      ]
    },
    {
      "cell_type": "code",
      "metadata": {
        "id": "Oc0clHmmP5mb",
        "colab": {
          "base_uri": "https://localhost:8080/",
          "height": 34
        },
        "outputId": "db0fc713-3099-4435-ad21-e8edb6fa52a5"
      },
      "source": [
        "vetor_1 = np.array([-2, 1, 5, -4, 1])\n",
        "vetor_2 = np.array([3, 4, 2, -3, 0])\n",
        "\n",
        "produto_escalar = np.dot(vetor_1, vetor_2)\n",
        "print(produto_escalar)\n",
        "# R: 20"
      ],
      "execution_count": null,
      "outputs": [
        {
          "output_type": "stream",
          "text": [
            "20\n"
          ],
          "name": "stdout"
        }
      ]
    },
    {
      "cell_type": "markdown",
      "metadata": {
        "id": "ovoZ-v_LT1vf"
      },
      "source": [
        "**Qual dos vetores a seguir é paralelo ao vetor [12, 8, -4, 20, -16]?**\n"
      ]
    },
    {
      "cell_type": "code",
      "metadata": {
        "id": "ZKKIK3qgT5HI",
        "colab": {
          "base_uri": "https://localhost:8080/",
          "height": 102
        },
        "outputId": "b7c11e9e-39ef-4ee3-a17f-51b028e025a7"
      },
      "source": [
        "\n",
        "vetor_u = np.array([12, 8, -4, 20, -16])\n",
        "\n",
        "vetores = {\n",
        "    'v1': np.array([3, 2, 1, -5, 4]),\n",
        "    'v2': np.array([-3, -2, -1, -5, -4]),\n",
        "    'v3': np.array([-3, -2, 1, -5, 4]),\n",
        "    'v4': np.array([-3, -2, 1, -5, -4]),\n",
        "    'v5': np.array([3, 2, 1, 5, 4])\n",
        "}\n",
        "\n",
        "for i in vetores:\n",
        "    print(f'{i}: {vetor_u / vetores[i]}')\n",
        "\n",
        "# R: v3\n"
      ],
      "execution_count": null,
      "outputs": [
        {
          "output_type": "stream",
          "text": [
            "v1: [ 4.  4. -4. -4. -4.]\n",
            "v2: [-4. -4.  4. -4.  4.]\n",
            "v3: [-4. -4. -4. -4. -4.]\n",
            "v4: [-4. -4. -4. -4.  4.]\n",
            "v5: [ 4.  4. -4.  4. -4.]\n"
          ],
          "name": "stdout"
        }
      ]
    },
    {
      "cell_type": "markdown",
      "metadata": {
        "id": "RaZff7BVZYJT"
      },
      "source": [
        "**Seja v um vetor tal que 3v + [2, 1, -3] = [5, 4, 0]**\n"
      ]
    },
    {
      "cell_type": "code",
      "metadata": {
        "id": "ljamT3ExZbXp",
        "colab": {
          "base_uri": "https://localhost:8080/",
          "height": 34
        },
        "outputId": "7d62a81a-7ef0-4fd2-8234-e0d1923dc118"
      },
      "source": [
        "v = np.array([1, 1, 1])\n",
        "\n",
        "print(3 * v + np.array([2, 1, -3]))\n",
        "\n",
        "# [1, 1, 1]"
      ],
      "execution_count": null,
      "outputs": [
        {
          "output_type": "stream",
          "text": [
            "[5 4 0]\n"
          ],
          "name": "stdout"
        }
      ]
    },
    {
      "cell_type": "markdown",
      "metadata": {
        "id": "UgEA2LQhfyUP"
      },
      "source": [
        "**Qual o vetor com maior norma?**\n"
      ]
    },
    {
      "cell_type": "code",
      "metadata": {
        "id": "8p46Va3Xf3Gx",
        "colab": {
          "base_uri": "https://localhost:8080/",
          "height": 102
        },
        "outputId": "d554106d-972c-457e-f688-447e4bdd628d"
      },
      "source": [
        "\n",
        "vetores = {\n",
        "    '[2, 3, 4]': np.array([2, 3, 4]),\n",
        "    '[5, -5]': np.array([5, -5]),\n",
        "    '[-7, 0]': np.array([-7, 0]),\n",
        "    '[-3, -6]': np.array([-3, -6]),\n",
        "    '[4, 5]': np.array([4, 5])\n",
        "}\n",
        "\n",
        "for i in vetores:\n",
        "    print(f'Norma vetor {i}: {np.linalg.norm(vetores[i])}')\n",
        "\n",
        "# R: [5, -5]\n"
      ],
      "execution_count": null,
      "outputs": [
        {
          "output_type": "stream",
          "text": [
            "Norma vetor [2, 3, 4]: 5.385164807134504\n",
            "Norma vetor [5, -5]: 7.0710678118654755\n",
            "Norma vetor [-7, 0]: 7.0\n",
            "Norma vetor [-3, -6]: 6.708203932499369\n",
            "Norma vetor [4, 5]: 6.4031242374328485\n"
          ],
          "name": "stdout"
        }
      ]
    },
    {
      "cell_type": "markdown",
      "metadata": {
        "id": "2Piq_FfCmgf9"
      },
      "source": [
        "**Qual o conjunto contém vetores que são linearmente independentes?**"
      ]
    },
    {
      "cell_type": "code",
      "metadata": {
        "id": "HRPt6ikCmiam",
        "colab": {
          "base_uri": "https://localhost:8080/",
          "height": 102
        },
        "outputId": "4fd09918-199d-42c2-e552-e91027a637bb"
      },
      "source": [
        "\n",
        "conjunto_de_vetores = [\n",
        "    np.array([[3, -1, 4], [-6, 2, -8], [1, 1, 1]]),\n",
        "    np.array([[1, -1, -2], [-1, 2, -1], [0, 1, -3]]),\n",
        "    np.array([[3, -1, 4], [-1, 2, -2], [3, -11, 8]]),\n",
        "    np.array([[-4, 0, 2], [0, 1, -2], [12, -3, 0]]),\n",
        "    np.array([[1, 0, 2], [0, 1, -2], [1, 2, 0]])\n",
        "]\n",
        "\n",
        "for i in range(len(conjunto_de_vetores)):\n",
        "    print(f'Determinante do conjunto {i + 1}: {np.linalg.det(conjunto_de_vetores[i])}')\n",
        "    \n",
        "# R: [1, 0, 2], [0, 1, -2], [1, 2, 0]\n"
      ],
      "execution_count": null,
      "outputs": [
        {
          "output_type": "stream",
          "text": [
            "Determinante do conjunto 1: 0.0\n",
            "Determinante do conjunto 2: 0.0\n",
            "Determinante do conjunto 3: 0.0\n",
            "Determinante do conjunto 4: 0.0\n",
            "Determinante do conjunto 5: 2.0\n"
          ],
          "name": "stdout"
        }
      ]
    },
    {
      "cell_type": "markdown",
      "metadata": {
        "id": "dP-Y9KMNwA3u"
      },
      "source": [
        "**Quais os vetores u e v que pertencem ao espaço vetorial Q³ (Q é o conjunto dos números racionais) tais que 4u - 3v = [7, 0, -3]?**"
      ]
    },
    {
      "cell_type": "code",
      "metadata": {
        "id": "ejL_4lmJ0tQ7",
        "colab": {
          "base_uri": "https://localhost:8080/",
          "height": 102
        },
        "outputId": "b6426c3a-81a4-49bc-d7f6-67b8016b9130"
      },
      "source": [
        "\n",
        "vetores = [\n",
        "    [np.array([1/2, 0, -1]), np.array([-5/3, 0, -1/3])],\n",
        "    [np.array([4/3, -1/3, -1]), np.array([-1, 1/2, -1/4])],\n",
        "    [np.array([1/2, -1, -1]), np.array([2/3, 1, -1/3])],\n",
        "    [np.array([1, 3 * np.sqrt(2), 0]), np.array([-1, 4 * np.sqrt(2), 1])],\n",
        "    [np.array([1, -1/4, -1]), np.array([-1, 1/3, -1/3])]\n",
        "]\n",
        "\n",
        "for i in range(len(vetores)):\n",
        "    temp = (4 * vetores[i][0]) - (3 * vetores[i][1]) \n",
        "\n",
        "    print(f'Vetores {i + 1}: {temp}')\n",
        "\n",
        "# R: [1, 3 * np.sqrt(2), 0], [-1, 4 * np.sqrt(2), 1] ERRADA, a certa é o v1(primeiro)\n"
      ],
      "execution_count": null,
      "outputs": [
        {
          "output_type": "stream",
          "text": [
            "Vetores 1: [ 7.  0. -3.]\n",
            "Vetores 2: [ 8.33333333 -2.83333333 -3.25      ]\n",
            "Vetores 3: [ 0. -7. -3.]\n",
            "Vetores 4: [ 7.  0. -3.]\n",
            "Vetores 5: [ 7. -2. -3.]\n"
          ],
          "name": "stdout"
        }
      ]
    },
    {
      "cell_type": "markdown",
      "metadata": {
        "id": "Bv3rBBSimoW5"
      },
      "source": [
        "**Qual o vetor com menor ângulo com o vetor [1, 1, 1, 1, 1]?**\n",
        "\n",
        "(para se obter o ângulo entre dois vetores é necessario a equação do produto interno entre os vetores / pela multiplicação de suas normas, com o resultado tira-se o arco cosseno. Ou pode achar o cosseno entre os dois vetores, o maior cosseno tem o menor ângulo)\n"
      ]
    },
    {
      "cell_type": "code",
      "metadata": {
        "id": "AU43JiMEnWj-",
        "colab": {
          "base_uri": "https://localhost:8080/",
          "height": 272
        },
        "outputId": "8073ace7-1fdd-47d6-95db-ec2e47a707e8"
      },
      "source": [
        "\n",
        "vetor = np.array([1, 1, 1, 1, 1])\n",
        "\n",
        "vetores = {\n",
        "    'v1': np.array([5, 3, 1, 1, 3]),\n",
        "    'v2': np.array([4, 2, 2, 3, 2]),\n",
        "    'v3': np.array([-5, 30, 30, 0, 0]),\n",
        "    'v4': np.array([0, 8, 8, 0, 0]),\n",
        "    'v5': np.array([15, 6, 2, 5, 2])\n",
        "}\n",
        "\n",
        "for array in vetores:\n",
        "    produto_interno = np.inner(vetor, vetores[array])\n",
        "    \n",
        "    norma_vetor = np.linalg.norm(vetor)\n",
        "    norma_iesimo_array = np.linalg.norm(vetores[array])\n",
        "\n",
        "    angulo_em_radianos = np.arccos(produto_interno / (norma_vetor * norma_iesimo_array))\n",
        "    angulo_em_graus = np.degrees(angulo_em_radianos)\n",
        "\n",
        "    print(f'Angulo em graus com o vetor {array}: {angulo_em_graus}')\n",
        "    print(f'Angulo radianos com o vetor {array}: {angulo_em_radianos}\\n')\n",
        "\n",
        "# R v2: [4, 2, 2, 3, 2]\n",
        "\n"
      ],
      "execution_count": null,
      "outputs": [
        {
          "output_type": "stream",
          "text": [
            "Angulo em graus com o vetor v1: 29.926434866614255\n",
            "Angulo radianos com o vetor v1: 0.5223148218060488\n",
            "\n",
            "Angulo em graus com o vetor v2: 17.10272896905239\n",
            "Angulo radianos com o vetor v2: 0.29849893158617957\n",
            "\n",
            "Angulo em graus com o vetor v3: 54.84668462810205\n",
            "Angulo radianos com o vetor v3: 0.9572552305633424\n",
            "\n",
            "Angulo em graus com o vetor v4: 50.768479516407744\n",
            "Angulo radianos com o vetor v4: 0.8860771237926137\n",
            "\n",
            "Angulo em graus com o vetor v5: 38.51356092462469\n",
            "Angulo radianos com o vetor v5: 0.6721884448021325\n",
            "\n"
          ],
          "name": "stdout"
        }
      ]
    },
    {
      "cell_type": "markdown",
      "metadata": {
        "id": "5FfQ0aeEvqtR"
      },
      "source": [
        "**Qual o vetor perpendicular ao vetor [3, -3, -2, 5]?**\n",
        "\n",
        "(um vetor é perpendicular a outro se o produto interno deles for igual a 0.)"
      ]
    },
    {
      "cell_type": "code",
      "metadata": {
        "id": "wuKyudxdvtSf",
        "colab": {
          "base_uri": "https://localhost:8080/",
          "height": 102
        },
        "outputId": "051e2f68-3cbe-47d0-cebd-87c14ca4519c"
      },
      "source": [
        "\n",
        "vetor_principal = np.array([3, -3, -2, 5])\n",
        "\n",
        "vetores = {\n",
        "    'vetor1': np.array([4, 4, 2, -3]),\n",
        "    'vetor2': np.array([7, -7, -5, 6]),\n",
        "    'vetor3': np.array([5, 5, 5, 2]),\n",
        "    'vetor4': np.array([2, 1, 3, -1]),\n",
        "    'vetor5': np.array([10, 0, 5, -6])\n",
        "}\n",
        "\n",
        "for k in vetores:\n",
        "    print(f'Produto interno vetor principal e {k}: {np.inner(vetor_principal, vetores[k])}')\n",
        "\n",
        "# R: vetor3 [5, 5, 5, 2]\n"
      ],
      "execution_count": null,
      "outputs": [
        {
          "output_type": "stream",
          "text": [
            "Produto interno vetor principal e vetor1: -19\n",
            "Produto interno vetor principal e vetor2: 82\n",
            "Produto interno vetor principal e vetor3: 0\n",
            "Produto interno vetor principal e vetor4: -8\n",
            "Produto interno vetor principal e vetor5: -10\n"
          ],
          "name": "stdout"
        }
      ]
    }
  ]
}