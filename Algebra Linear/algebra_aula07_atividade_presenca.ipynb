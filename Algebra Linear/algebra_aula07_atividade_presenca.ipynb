{
  "nbformat": 4,
  "nbformat_minor": 0,
  "metadata": {
    "colab": {
      "name": "algebra-aula07-atividade-presenca",
      "provenance": [],
      "collapsed_sections": []
    },
    "kernelspec": {
      "name": "python3",
      "display_name": "Python 3"
    }
  },
  "cells": [
    {
      "cell_type": "code",
      "metadata": {
        "id": "i-9-y0jJHyrX",
        "colab": {
          "base_uri": "https://localhost:8080/",
          "height": 68
        },
        "outputId": "eb1bae33-fffc-4631-f2f1-69b957dcdd93"
      },
      "source": [
        "import numpy as np\n",
        "\n",
        "# soma de vetores\n",
        "\n",
        "v = np.array([2, 5, -1])\n",
        "u = np.array([-1, 4, 8])\n",
        "\n",
        "print(v + u)\n",
        "\n",
        "# angulo entre vetores (exercicio de presença)\n",
        "\n",
        "vetor_v = np.array([1, -2, 3])\n",
        "vetor_u = np.array([-3, 2, -1])\n",
        "\n",
        "norma_v = np.linalg.norm(vetor_v)\n",
        "norma_u = np.linalg.norm(vetor_u)\n",
        "\n",
        "produto_interno = np.dot(vetor_v, vetor_u)  # somatório do produto de cada elemento\n",
        "print(produto_interno)\n",
        "angulo = np.arccos(produto_interno / (norma_v * norma_u))\n",
        "\n",
        "print(angulo, np.degrees(angulo))  # angulo em radianos e em graus\n"
      ],
      "execution_count": null,
      "outputs": [
        {
          "output_type": "stream",
          "text": [
            "[1 9 7]\n",
            "-10\n",
            "2.366399280279432 135.58469140280704\n"
          ],
          "name": "stdout"
        }
      ]
    }
  ]
}