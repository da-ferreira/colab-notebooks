{
  "nbformat": 4,
  "nbformat_minor": 0,
  "metadata": {
    "colab": {
      "name": "Atividade-de-Aula(14-10-2020)_algebra_linear",
      "provenance": [],
      "collapsed_sections": []
    },
    "kernelspec": {
      "name": "python3",
      "display_name": "Python 3"
    }
  },
  "cells": [
    {
      "cell_type": "code",
      "metadata": {
        "id": "hwRZRPlCPLYq"
      },
      "source": [
        "import numpy as np"
      ],
      "execution_count": null,
      "outputs": []
    },
    {
      "cell_type": "markdown",
      "metadata": {
        "id": "gIKAD4r0sBnj"
      },
      "source": [
        "**Qual o determinante da inversa da matriz [[3, -1], [0, 3]]?**"
      ]
    },
    {
      "cell_type": "code",
      "metadata": {
        "id": "EusBbqphsE_g",
        "colab": {
          "base_uri": "https://localhost:8080/",
          "height": 34
        },
        "outputId": "fff8f8ad-9da7-4a7a-90d2-4352a2cdb73f"
      },
      "source": [
        "matriz = np.array(\n",
        "    [\n",
        "     [3, -1],\n",
        "     [0, 3]\n",
        "     ]\n",
        ")\n",
        "\n",
        "matriz_inversa = np.linalg.inv(matriz)\n",
        "print(np.linalg.det(matriz_inversa))  # 1/9\n"
      ],
      "execution_count": null,
      "outputs": [
        {
          "output_type": "stream",
          "text": [
            "0.11111111111111109\n"
          ],
          "name": "stdout"
        }
      ]
    },
    {
      "cell_type": "markdown",
      "metadata": {
        "id": "SlYxsGbrs0vY"
      },
      "source": [
        "**Qual o determinante da transposta da matriz resultante da operação**\n"
      ]
    },
    {
      "cell_type": "code",
      "metadata": {
        "id": "UiOryq1stWfv",
        "colab": {
          "base_uri": "https://localhost:8080/",
          "height": 34
        },
        "outputId": "0c66351c-6a47-4c25-9ccd-5f34ae5bea9e"
      },
      "source": [
        "matriz_a = np.array(\n",
        "    [\n",
        "     [3, -2, 0],\n",
        "     [2, 1, 0],\n",
        "     [2, 1, 1]\n",
        "    ]\n",
        ")\n",
        "\n",
        "matriz_b = np.array(\n",
        "    [\n",
        "     [-1, 5, 2],\n",
        "     [0, -1, 4],\n",
        "     [6, -3, 0]\n",
        "    ]\n",
        ")\n",
        "\n",
        "soma = matriz_a + matriz_b\n",
        "transposicao = np.transpose(soma)\n",
        "determinante = np.linalg.det(transposicao)\n",
        "print(determinante)  # 98\n"
      ],
      "execution_count": null,
      "outputs": [
        {
          "output_type": "stream",
          "text": [
            "98.00000000000004\n"
          ],
          "name": "stdout"
        }
      ]
    },
    {
      "cell_type": "markdown",
      "metadata": {
        "id": "a1bJywAHv2AH"
      },
      "source": [
        "**Qual das operações resulta na matriz com maior determinante?**"
      ]
    },
    {
      "cell_type": "code",
      "metadata": {
        "id": "ZfRZmMoXv3nQ",
        "colab": {
          "base_uri": "https://localhost:8080/",
          "height": 136
        },
        "outputId": "57efede1-b8b3-4a2a-f6d5-7a4b61c3219c"
      },
      "source": [
        "matrizes = {\n",
        "    'matriz_a': np.matmul(np.array([[5, 5], [3, 4]]), np.array([[6, 4], [3, 4]])),\n",
        "    'matriz_b': np.array([[5, 5], [3, 4]]) + np.array([[5, 5], [3, 4]]),\n",
        "    'matriz_c': np.array([[5, 5], [3, 4]]) + np.array([[5, 5], [4, -4]]),\n",
        "    'matriz_d': np.matmul(np.array([[5, 5], [3, 4]]), np.array([[5, 5], [3, 4]])),\n",
        "    'matriz_e': np.matmul(np.array([[5, 5], [3, 4]]), np.array([[6, 5], [3, 4]]))\n",
        "}\n",
        "\n",
        "for i in matrizes:\n",
        "    print(f'Determinante {i}: {np.linalg.det(matrizes[i]) :.2f}')\n",
        "\n",
        "print(np.matmul(np.array([[5, 5], [3, 4]]), np.array([[6, 4], [3, 4]])))  #  matriz a tem o maior determinante.\n"
      ],
      "execution_count": null,
      "outputs": [
        {
          "output_type": "stream",
          "text": [
            "Determinante matriz_a: 60.00\n",
            "Determinante matriz_b: 20.00\n",
            "Determinante matriz_c: -70.00\n",
            "Determinante matriz_d: 25.00\n",
            "Determinante matriz_e: 45.00\n",
            "[[45 40]\n",
            " [30 28]]\n"
          ],
          "name": "stdout"
        }
      ]
    }
  ]
}
